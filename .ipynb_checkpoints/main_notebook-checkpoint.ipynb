{
 "cells": [
  {
   "cell_type": "markdown",
   "metadata": {},
   "source": [
    "# Introduction\n",
    "\n",
    "Main notebook for trying out code fragments, or unit different modules.  Similar to def main()."
   ]
  },
  {
   "cell_type": "markdown",
   "metadata": {},
   "source": [
    "## Data preprocessing\n",
    "\n",
    "Various code fragments to process the Kaggle dataset.  The full Kaggle data must be stored locally."
   ]
  },
  {
   "cell_type": "code",
   "execution_count": 15,
   "metadata": {},
   "outputs": [
    {
     "name": "stderr",
     "output_type": "stream",
     "text": [
      "100it [00:02, 33.82it/s]\n"
     ]
    },
    {
     "name": "stdout",
     "output_type": "stream",
     "text": [
      "finish!\n"
     ]
    }
   ],
   "source": [
    "from cs230_spring2020.final_project import preprocess as pre_process\n",
    "import json\n",
    "\n",
    "json_dir = '../cs230_spring2020/Guanshuo_TFQA_1stplace/input/simplified-nq-train.jsonl'\n",
    "num_entries = 100\n",
    "\n",
    "dataset_kaggle = pre_process.input_datasets_Kaggle(json_dir, num_entries)\n",
    "\n",
    "with open('dataset_Kaggle_' + str(num_entries) + '.json', 'w') as f:\n",
    "    f.seek(0)\n",
    "    f.write(json.dumps(dataset_kaggle))\n",
    "\n",
    "print('finish!')"
   ]
  },
  {
   "cell_type": "code",
   "execution_count": null,
   "metadata": {},
   "outputs": [],
   "source": []
  }
 ],
 "metadata": {
  "kernelspec": {
   "display_name": "Python 3",
   "language": "python",
   "name": "python3"
  },
  "language_info": {
   "codemirror_mode": {
    "name": "ipython",
    "version": 3
   },
   "file_extension": ".py",
   "mimetype": "text/x-python",
   "name": "python",
   "nbconvert_exporter": "python",
   "pygments_lexer": "ipython3",
   "version": "3.8.2"
  }
 },
 "nbformat": 4,
 "nbformat_minor": 4
}
