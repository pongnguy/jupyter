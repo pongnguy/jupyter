{
 "cells": [
  {
   "cell_type": "markdown",
   "metadata": {},
   "source": [
    "# Introduction\n",
    "\n",
    "Main notebook for trying out code fragments, or unit different modules.  Similar to def main()."
   ]
  },
  {
   "cell_type": "markdown",
   "metadata": {},
   "source": [
    "## Data preprocessing\n",
    "\n",
    "Various code fragments to process the Kaggle dataset.  The full Kaggle data must be stored locally.  Functions are stored in some external python scripts which are also stored locally (e.g. final_project/*)."
   ]
  },
  {
   "cell_type": "code",
   "execution_count": 1,
   "metadata": {},
   "outputs": [],
   "source": [
    "from cs230_spring2020.final_project import preprocess as pre_process\n",
    "import json"
   ]
  },
  {
   "cell_type": "markdown",
   "metadata": {},
   "source": [
    "Code to product an extract of the Kaggle set data"
   ]
  },
  {
   "cell_type": "code",
   "execution_count": 6,
   "metadata": {},
   "outputs": [
    {
     "name": "stderr",
     "output_type": "stream",
     "text": [
      "500it [00:00, 1713.36it/s]\n"
     ]
    },
    {
     "name": "stdout",
     "output_type": "stream",
     "text": [
      "finish!\n"
     ]
    }
   ],
   "source": [
    "json_dir = '../cs230_spring2020/Guanshuo_TFQA_1stplace/input/simplified-nq-train.jsonl'\n",
    "num_entries = 500\n",
    "\n",
    "dataset_kaggle = pre_process.input_datasets_Kaggle(json_dir, num_entries)\n",
    "\n",
    "with open('dataset_Kaggle_' + str(num_entries) + '.json', 'w') as f:\n",
    "    f.seek(0)\n",
    "    f.write(json.dumps(dataset_kaggle))\n",
    "\n",
    "print('finish!')"
   ]
  },
  {
   "cell_type": "markdown",
   "metadata": {},
   "source": [
    "Code to compute statistics of the Kaggle dataset\n"
   ]
  },
  {
   "cell_type": "code",
   "execution_count": 7,
   "metadata": {},
   "outputs": [
    {
     "name": "stdout",
     "output_type": "stream",
     "text": [
      "{'annotationsMax': 1, 'num_yesNo': 10, 'text_avgLength': 45254.15999999998}\n"
     ]
    }
   ],
   "source": [
    "dataset_kaggle_statistics = pre_process.compute_statistics(dataset_kaggle)\n",
    "\n",
    "print(dataset_kaggle_statistics)"
   ]
  },
  {
   "cell_type": "code",
   "execution_count": null,
   "metadata": {},
   "outputs": [],
   "source": []
  }
 ],
 "metadata": {
  "kernelspec": {
   "display_name": "Python 3",
   "language": "python",
   "name": "python3"
  },
  "language_info": {
   "codemirror_mode": {
    "name": "ipython",
    "version": 3
   },
   "file_extension": ".py",
   "mimetype": "text/x-python",
   "name": "python",
   "nbconvert_exporter": "python",
   "pygments_lexer": "ipython3",
   "version": "3.8.2"
  }
 },
 "nbformat": 4,
 "nbformat_minor": 4
}
